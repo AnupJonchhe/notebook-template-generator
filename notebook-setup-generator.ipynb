{
 "cells": [
  {
   "cell_type": "markdown",
   "metadata": {},
   "source": [
    "# Introduction\n",
    "Read a template notebook .py file and generate a main.js setup file for use with \"Setup\" nbextension"
   ]
  },
  {
   "cell_type": "markdown",
   "metadata": {},
   "source": [
    "### Library Imports"
   ]
  },
  {
   "cell_type": "code",
   "execution_count": null,
   "metadata": {},
   "outputs": [],
   "source": [
    "import pandas as pd\n",
    "import numpy as np\n",
    "import re\n",
    "import os, sys\n",
    "from pathlib import Path"
   ]
  },
  {
   "cell_type": "markdown",
   "metadata": {},
   "source": [
    "### Jupyter-specific Imports and Settings"
   ]
  },
  {
   "cell_type": "code",
   "execution_count": null,
   "metadata": {},
   "outputs": [],
   "source": [
    "# Data manipulation\n",
    "# Options for pandas\n",
    "pd.options.display.max_columns = 50\n",
    "pd.options.display.max_rows = 30\n",
    "\n",
    "# Display all cell outputs\n",
    "from IPython.core.interactiveshell import InteractiveShell\n",
    "InteractiveShell.ast_node_interactivity = 'all'\n",
    "\n",
    "from IPython import get_ipython\n",
    "ipython = get_ipython()\n",
    "\n",
    "# autoreload extension\n",
    "if 'autoreload' not in ipython.extension_manager.loaded:\n",
    "    %load_ext autoreload\n",
    "\n",
    "%autoreload 2"
   ]
  },
  {
   "cell_type": "markdown",
   "metadata": {},
   "source": [
    "# Analysis/Modeling"
   ]
  },
  {
   "cell_type": "code",
   "execution_count": null,
   "metadata": {},
   "outputs": [],
   "source": [
    "ignore = \"\"\"\n",
    "Types of lines\n",
    "\n",
    "# !/usr/bin/env python\n",
    "# coding: utf-8\n",
    "\n",
    "Markdown: \n",
    "# # Title\n",
    "\n",
    "start of code cell:  \n",
    "# In[ ]:  OR  # In[12]:\n",
    "# <python code lines>\n",
    "\n",
    "#!/usr/bin/env python\n",
    "# coding: utf-8\n",
    "# # Title\n",
    "# # Description\n",
    "# In[ ]:\n",
    "# # Environment\n",
    "# ## Library Imports\n",
    "# In[12]:\n",
    "import pandas as pd\n",
    "import numpy as np\n",
    "\n",
    "\"\"\""
   ]
  },
  {
   "cell_type": "code",
   "execution_count": null,
   "metadata": {},
   "outputs": [],
   "source": [
    "js_preamble = \"\"\"\n",
    "define(['base/js/namespace', 'base/js/events'], function (Jupyter, events) {\n",
    "  // Template cells including markdown and imports\n",
    "  var setUp = function () {\n",
    "\"\"\"\n",
    "# The contents of the setUp function are insert_cell_at_index calls in between these two\n",
    "\n",
    "js_postamble = \"\"\"\n",
    "    // Run all cells\n",
    "    Jupyter.notebook.execute_all_cells()\n",
    "  }\n",
    "  // Prompts user to enter name for notebook\n",
    "  var promptName = function () {\n",
    "    // Open rename notebook box if 'Untitled' in name\n",
    "    // if (Jupyter.notebook.notebook_name.search('Untitled') != -1) {\n",
    "    //  document.getElementsByClassName('filename')[0].click()\n",
    "    // }\n",
    "  }\n",
    "  // Run on start\n",
    "  function load_ipython_extension () {\n",
    "    // Add default cells for new notebook\n",
    "    if (Jupyter.notebook.get_cells().length === 1) {\n",
    "      setTimeout(setUp, 500)\n",
    "    } else {\n",
    "      promptName()\n",
    "    }\n",
    "  }\n",
    "  // Run when cell is executed\n",
    "  events.on('execute.CodeCell', function () {\n",
    "    promptName()\n",
    "  })\n",
    "  // Run when notebook is saved\n",
    "  events.on('before_save.Notebook', function () {\n",
    "    promptName()\n",
    "  })\n",
    "  return {\n",
    "    load_ipython_extension: load_ipython_extension\n",
    "  }\n",
    "})\n",
    "\"\"\""
   ]
  },
  {
   "cell_type": "code",
   "execution_count": null,
   "metadata": {},
   "outputs": [],
   "source": [
    "# Jupyter.notebook.insert_cell_at_index('markdown', 1).set_text(`### Imports\n",
    "#    Import libraries and write settings here.`)\n",
    "\n",
    "def emit_cell_at_index(cell_type: str, inx: int, text: str):\n",
    "    # cell_type is 'markdown' or 'code'\n",
    "#     print(text)\n",
    "    xs_fmt = 'Jupyter.notebook.insert_cell_at_index(\\'{}\\', {}).set_text(`{}`)\\n'\n",
    "    return xs_fmt.format(cell_type, inx, text)\n",
    "\n",
    "def emit_cell(cell_type: str, cell_index: int, text: str):\n",
    "    xs = None\n",
    "    if True: #state != ParseState.none:\n",
    "        #cell_type = 'markdown' if state == ParseState.markdown else 'code'\n",
    "        xs = emit_cell_at_index(cell_type, cell_index, text)\n",
    "        cell_index += 1\n",
    "    return xs, cell_index\n",
    "\n",
    "def trim_leading_and_trailing_lines(xs):\n",
    "    # xs = '\\n\\n\\n\\nTest String\\n\\n\\n\\n\\nSecond Line\\n\\nThird Line\\n\\n\\n\\n\\n\\n'\n",
    "    trimmed = xs.split('\\n')\n",
    "    while trimmed and not trimmed[-1]:\n",
    "        trimmed.pop()\n",
    "    while trimmed and not trimmed[0]:\n",
    "        trimmed.pop(0)\n",
    "    return '\\n'.join(trimmed)"
   ]
  },
  {
   "cell_type": "code",
   "execution_count": null,
   "metadata": {},
   "outputs": [],
   "source": [
    "re_hdr1 = re.compile('^#!\\/usr\\/bin\\/env.*$')\n",
    "re_hdr2 = re.compile('^# coding: .*$')\n",
    "re_markdown = re.compile('^# (#.*)$')\n",
    "re_code_cell_start = re.compile('^# In\\[[0-9 ]*\\].*$')\n",
    "re_blank_line = re.compile('^\\s*$')"
   ]
  },
  {
   "cell_type": "code",
   "execution_count": null,
   "metadata": {},
   "outputs": [],
   "source": [
    "def ignore_line(line):\n",
    "    exact_matches = {\n",
    "        '#!/usr/bin/env python',\n",
    "        '# coding: utf-8',\n",
    "        ''\n",
    "    }\n",
    "    return line in exact_matches"
   ]
  },
  {
   "cell_type": "code",
   "execution_count": null,
   "metadata": {},
   "outputs": [],
   "source": [
    "def get_notebook_template_path(notebook_template_name: str) -> Path:\n",
    "    # If your template notebook is called \"notebook-template\", then choosing\n",
    "    # \"Download As... Python (.py)\" will save a file in the ~/Downloads folder:\n",
    "    #    ~/Downloads/notebook-template.py.html\n",
    "    path_fmt = '~/Downloads/{}.py.html'\n",
    "    xpath = Path(path_fmt.format(notebook_template_name))\n",
    "    return Path(os.path.expanduser(xpath))\n",
    "\n",
    "# def get_nbextensions_path() -> Path:\n",
    "#     # https://jakevdp.github.io/blog/2017/12/05/installing-python-packages-from-jupyter/\n",
    "#     rx = !{sys.executable} -m pip show jupyter_contrib_nbextensions\n",
    "#     print(rx)\n",
    "#     return rx.fields()['Location:']\n",
    "\n",
    "def jupyter_contrib_nbextensions_slist_to_dict(slist):\n",
    "    # slist is a list of lists\n",
    "    # The first element of each list looks like a dictionary key\n",
    "    # function named like this since it's only tested with the output from:\n",
    "    #    rx = !{sys.executable} -m pip show jupyter_contrib_nbextensions\n",
    "    #    jupyter_contrib_nbextensions_slist_to_dict(rx.fields())['Location']\n",
    "    rx = {}\n",
    "    for field in slist:\n",
    "        key, val = field[0][:-1], field[1:]\n",
    "        rx[key] = ' '.join(val)\n",
    "    return rx\n",
    "\n",
    "def get_sitepackages_path() -> Path:\n",
    "    # https://jakevdp.github.io/blog/2017/12/05/installing-python-packages-from-jupyter/\n",
    "    rx = !{sys.executable} -m pip show jupyter_contrib_nbextensions\n",
    "    return Path(jupyter_contrib_nbextensions_slist_to_dict(rx.fields())['Location'])"
   ]
  },
  {
   "cell_type": "code",
   "execution_count": null,
   "metadata": {},
   "outputs": [],
   "source": [
    "get_sitepackages_path()"
   ]
  },
  {
   "cell_type": "code",
   "execution_count": null,
   "metadata": {},
   "outputs": [],
   "source": [
    "rx"
   ]
  },
  {
   "cell_type": "code",
   "execution_count": null,
   "metadata": {
    "scrolled": false
   },
   "outputs": [],
   "source": [
    "from enum import Enum\n",
    "class ParseState(Enum):\n",
    "    none = 0\n",
    "    markdown = 1\n",
    "    codecell = 2\n",
    "\n",
    "template_path = get_notebook_template_path('notebook-template')\n",
    "state, prevstate = ParseState.none, ParseState.none\n",
    "\n",
    "cell_index = 0\n",
    "accum = ''\n",
    "need_emit = False\n",
    "setup_guts = ''\n",
    "with open(template_path) as fp:\n",
    "    for ix, line in enumerate(fp):\n",
    "#         print('State: {}, accum: {}'.format(state, accum[:-1]))\n",
    "        if re.search(re_hdr1, line) or re.search(re_hdr2, line):\n",
    "            pass # print('header')\n",
    "        else:\n",
    "            mm = re.match(re_markdown, line)\n",
    "            if mm:\n",
    "                state, prevstate = ParseState.markdown, state\n",
    "                if need_emit:\n",
    "                    xs, cell_index = emit_cell(cell_type, cell_index, trim_leading_and_trailing_lines(accum))\n",
    "                    setup_guts += xs\n",
    "#                     print('Emitted: {}'.format(xs))\n",
    "                    accum = ''\n",
    "                cell_type = 'markdown'\n",
    "                need_emit = True\n",
    "                accum += mm.group(1)\n",
    "            elif re.search(re_code_cell_start, line):\n",
    "                state, prevstate = ParseState.codecell, state\n",
    "                if need_emit:\n",
    "                    xs, cell_index = emit_cell(cell_type, cell_index, trim_leading_and_trailing_lines(accum))\n",
    "                    setup_guts += xs\n",
    "#                     print('Emitted: {}'.format(xs))\n",
    "                    accum = ''\n",
    "                cell_type = 'code'\n",
    "                need_emit = True\n",
    "                # don't append codecellstart text to accum\n",
    "            else:\n",
    "                accum += line\n",
    "                \n",
    "#             print(xs)\n",
    "\n",
    "    if need_emit:\n",
    "        xs, cell_index = emit_cell(cell_type, cell_index, \n",
    "                                   trim_leading_and_trailing_lines(accum + line))\n",
    "        setup_guts += xs\n",
    "#         print('Emitted: {}'.format(xs))\n",
    "        accum = ''\n",
    "\n",
    "nbextsetuppath = get_sitepackages_path() / 'jupyter_contrib_nbextensions' / 'nbextensions'/ 'setup'\n",
    "with open(nbextsetuppath / 'main.js', 'w') as fp:\n",
    "    print(js_preamble + setup_guts + js_postamble, file=fp)"
   ]
  },
  {
   "cell_type": "code",
   "execution_count": null,
   "metadata": {},
   "outputs": [],
   "source": [
    "# cp  -R notebook-template-generator/setup  /Users/john/development/Python/Virtualenvs/py37/lib/python3.7/site-packages/jupyter_contrib_nbextensions/nbextensions/  "
   ]
  },
  {
   "cell_type": "code",
   "execution_count": null,
   "metadata": {},
   "outputs": [],
   "source": [
    "print(get_sitepackages_path() / 'jupyter_contrib_nbextensions' / 'nbextensions'/ 'setup')"
   ]
  },
  {
   "cell_type": "markdown",
   "metadata": {},
   "source": [
    "# Results\n",
    "Show graphs and stats here"
   ]
  },
  {
   "cell_type": "markdown",
   "metadata": {},
   "source": [
    "# Conclusions and Next Steps\n",
    "Summarize findings here"
   ]
  },
  {
   "cell_type": "markdown",
   "metadata": {},
   "source": [
    "# References"
   ]
  },
  {
   "cell_type": "code",
   "execution_count": null,
   "metadata": {},
   "outputs": [],
   "source": [
    "# Python\n",
    "# https://stackoverflow.com/questions/11555468/how-should-i-read-a-file-line-by-line-in-python\n",
    "# https://www.geeksforgeeks.org/python-string-length-len/\n",
    "# https://docs.python.org/3/library/enum.html\n",
    "# https://docs.python.org/3/library/re.html\n",
    "# https://www.journaldev.com/23763/python-remove-spaces-from-string\n",
    "# https://stackoverflow.com/questions/2504411/proper-indentation-for-python-multiline-strings\n",
    "# https://docs.python.org/3/library/textwrap.html\n",
    "# https://asoldatenko.com/can-i-copy-string-in-python-and-how.html\n",
    "# https://stackoverflow.com/questions/5214578/python-print-string-to-text-file\n",
    "# https://stackoverflow.com/questions/14225608/python-how-to-use-regex-in-an-if-statement\n",
    "# https://medium.freecodecamp.org/how-to-quickly-find-type-issues-in-your-python-code-with-pytype-c022782f61c3\n",
    "\n",
    "# Parsing\n",
    "# https://tomassetti.me/antlr-mega-tutorial/\n",
    "# https://tomassetti.me/parsing-in-python/\n",
    "# https://rubular.com/\n",
    "\n",
    "# JavaScript\n",
    "# https://beautifier.io/\n",
    "# http://www.javascriptlint.com/online_lint.php\n",
    "\n",
    "# Koehrsen\n",
    "# https://medium.com/search?q=koehrsen%20jupyter\n",
    "# https://towardsdatascience.com/jupyter-notebook-extensions-517fa69d2231\n",
    "# https://towardsdatascience.com/set-your-jupyter-notebook-up-right-with-this-extension-24921838a332\n",
    "# https://github.com/WillKoehrsen/Data-Analysis\n",
    "# https://towardsdatascience.com/how-to-write-a-jupyter-notebook-extension-a63f9578a38c\n",
    "# https://towardsdatascience.com/how-to-automatically-import-your-favorite-libraries-into-ipython-or-a-jupyter-notebook-9c69d89aa343\n",
    "# https://medium.com/@rrfd/cookiecutter-data-science-organize-your-projects-atom-and-jupyter-2be7862f487e\n",
    "\n",
    "# https://jakevdp.github.io/blog/2017/12/05/installing-python-packages-from-jupyter/\n",
    "# https://gist.github.com/parente/b6ee0efe141822dfa18b6feeda0a45e5\n",
    "# https://ipython.readthedocs.io/en/stable/api/generated/IPython.utils.text.html"
   ]
  },
  {
   "cell_type": "markdown",
   "metadata": {},
   "source": [
    "# Unit Tests"
   ]
  },
  {
   "cell_type": "code",
   "execution_count": null,
   "metadata": {},
   "outputs": [],
   "source": [
    "import unittest\n",
    "        \n",
    "class Test_My_Code(unittest.TestCase):\n",
    "\n",
    "    def __init__(self, methodName='runTest'):\n",
    "        # A new TestTest instance is created for each test method\n",
    "        # Thus, __init__ is called once for each test method\n",
    "        super(Test_My_Code, self).__init__(methodName)\n",
    "#         print('__init__')\n",
    "    \n",
    "    def is_regex_match(regx, test: str, expected: str):\n",
    "        mm = re.match(regx, test)\n",
    "        if not mm:\n",
    "            return False\n",
    "        last_grp = len(mm.groups())\n",
    "        return expected == mm.group(last_grp)\n",
    "    \n",
    "        # Regex tests\n",
    "    regex_test_mls = \"\"\"\n",
    "    #!/usr/bin/env python\n",
    "    # coding: utf-8\n",
    "    # # Title\n",
    "    # # Description\n",
    "    # In[ ]:\n",
    "\n",
    "    # # Environment\n",
    "    # ## Library Imports\n",
    "    # In[12]:\n",
    "    import pandas as pd\n",
    "    import numpy as np\n",
    "    \"\"\"\n",
    "    \n",
    "    def test_regex(self):\n",
    "        self.assertTrue(is_regex_match(re_markdown, '# ## Library Imports', '## Library Imports'))"
   ]
  },
  {
   "cell_type": "markdown",
   "metadata": {},
   "source": [
    "# Experiments"
   ]
  },
  {
   "cell_type": "code",
   "execution_count": null,
   "metadata": {},
   "outputs": [],
   "source": [
    "1/0 # Stop here"
   ]
  },
  {
   "cell_type": "code",
   "execution_count": null,
   "metadata": {},
   "outputs": [],
   "source": [
    "js_preamble"
   ]
  },
  {
   "cell_type": "code",
   "execution_count": null,
   "metadata": {},
   "outputs": [],
   "source": [
    "emit_cell_at_index('markdown', 3, '# Analysis/Modeling')"
   ]
  },
  {
   "cell_type": "code",
   "execution_count": null,
   "metadata": {},
   "outputs": [],
   "source": [
    "re_markdown = re.compile('^# (#.*)$')\n",
    "\n",
    "xs = '# # Title'\n",
    "mm = re.match(re_markdown, xs)\n",
    "mm.group(1)"
   ]
  },
  {
   "cell_type": "code",
   "execution_count": null,
   "metadata": {},
   "outputs": [],
   "source": [
    "xs"
   ]
  },
  {
   "cell_type": "code",
   "execution_count": null,
   "metadata": {},
   "outputs": [],
   "source": []
  },
  {
   "cell_type": "code",
   "execution_count": null,
   "metadata": {},
   "outputs": [],
   "source": [
    "xs = '\\n\\n\\n\\nTest String\\n\\n\\n\\n\\nSecond Line\\n\\nThird Line\\n\\n\\n\\n\\n\\n'\n",
    "trimmed = xs.split('\\n')\n",
    "while trimmed and not trimmed[-1]:\n",
    "    trimmed.pop()\n",
    "while trimmed and not trimmed[0]:\n",
    "    trimmed.pop(0)\n",
    "'\\n'.join(trimmed)"
   ]
  },
  {
   "cell_type": "code",
   "execution_count": null,
   "metadata": {},
   "outputs": [],
   "source": [
    "trimmed"
   ]
  },
  {
   "cell_type": "code",
   "execution_count": null,
   "metadata": {},
   "outputs": [],
   "source": [
    "# Regex tests\n",
    "_ = \"\"\"\n",
    "#!/usr/bin/env python\n",
    "# coding: utf-8\n",
    "# # Title\n",
    "# # Description\n",
    "# In[ ]:\n",
    "\n",
    "# # Environment\n",
    "# ## Library Imports\n",
    "# In[12]:\n",
    "import pandas as pd\n",
    "import numpy as np\n",
    "\"\"\""
   ]
  },
  {
   "cell_type": "code",
   "execution_count": null,
   "metadata": {},
   "outputs": [],
   "source": [
    "# jupyter contrib nbextensions install --user \n",
    "# pip show jupyter_contrib_nbextensions\n",
    "# pip install --user jupyter_contrib_nbextensions && jupyter contrib nbextension install --user\n",
    "# This:\n",
    "# pip install  jupyter_contrib_nbextensions && jupyter contrib nbextension install --user"
   ]
  },
  {
   "cell_type": "code",
   "execution_count": null,
   "metadata": {},
   "outputs": [],
   "source": [
    "# https://jakevdp.github.io/blog/2017/12/05/installing-python-packages-from-jupyter/\n",
    "import sys\n",
    "rx = !{sys.executable} -m pip show jupyter_contrib_nbextensions"
   ]
  },
  {
   "cell_type": "code",
   "execution_count": null,
   "metadata": {},
   "outputs": [],
   "source": [
    "rx"
   ]
  },
  {
   "cell_type": "code",
   "execution_count": null,
   "metadata": {},
   "outputs": [],
   "source": [
    "type(rx)"
   ]
  },
  {
   "cell_type": "code",
   "execution_count": null,
   "metadata": {},
   "outputs": [],
   "source": [
    "# https://gist.github.com/parente/b6ee0efe141822dfa18b6feeda0a45e5\n",
    "rx.fields() #['Location:']"
   ]
  },
  {
   "cell_type": "code",
   "execution_count": null,
   "metadata": {},
   "outputs": [],
   "source": []
  },
  {
   "cell_type": "code",
   "execution_count": null,
   "metadata": {},
   "outputs": [],
   "source": [
    "get_notebook_template_path('notebook-template')"
   ]
  },
  {
   "cell_type": "code",
   "execution_count": null,
   "metadata": {},
   "outputs": [],
   "source": [
    "524288/1024"
   ]
  },
  {
   "cell_type": "code",
   "execution_count": null,
   "metadata": {},
   "outputs": [],
   "source": [
    "regex_test_mls = \"\"\"\n",
    "#!/usr/bin/env python\n",
    "# coding: utf-8\n",
    "# # Title\n",
    "# # Description\n",
    "# In[ ]:\n",
    "\n",
    "# # Environment\n",
    "# ## Library Imports\n",
    "# In[12]:\n",
    "import pandas as pd\n",
    "import numpy as np\n",
    "\"\"\"\n",
    "\n"
   ]
  },
  {
   "cell_type": "code",
   "execution_count": null,
   "metadata": {},
   "outputs": [],
   "source": [
    "regex_test_mls.split('\\n')"
   ]
  },
  {
   "cell_type": "code",
   "execution_count": null,
   "metadata": {},
   "outputs": [],
   "source": [
    "re_hdr1 = re.compile('^#!\\/usr\\/bin\\/env.*$')\n",
    "re_hdr2 = re.compile('^# coding: .*$')\n",
    "re_markdown = re.compile('^# (#.*)$')\n",
    "re_code_cell_start = re.compile('^# In\\[[0-9 ]*\\].*$')\n",
    "re_blank_line = re.compile('^\\s*$')"
   ]
  },
  {
   "cell_type": "code",
   "execution_count": null,
   "metadata": {},
   "outputs": [],
   "source": []
  },
  {
   "cell_type": "code",
   "execution_count": null,
   "metadata": {},
   "outputs": [],
   "source": [
    "is_regex_match(re_hdr1, '#!/usr/bin/env python', '#!/usr/bin/env python')"
   ]
  },
  {
   "cell_type": "code",
   "execution_count": null,
   "metadata": {},
   "outputs": [],
   "source": [
    "mm = re.match(re_hdr1, '#!/usr/bin/env python')\n",
    "if mm is not None:\n",
    "    mm.lastindex()"
   ]
  },
  {
   "cell_type": "code",
   "execution_count": null,
   "metadata": {},
   "outputs": [],
   "source": [
    "mm"
   ]
  },
  {
   "cell_type": "code",
   "execution_count": null,
   "metadata": {},
   "outputs": [],
   "source": [
    "len(mm.groups())"
   ]
  },
  {
   "cell_type": "code",
   "execution_count": null,
   "metadata": {},
   "outputs": [],
   "source": [
    "mm = re.match(re_markdown, '# ## Library Imports')\n",
    "len(mm.groups())\n"
   ]
  },
  {
   "cell_type": "code",
   "execution_count": null,
   "metadata": {},
   "outputs": [],
   "source": [
    "!pwd"
   ]
  },
  {
   "cell_type": "code",
   "execution_count": null,
   "metadata": {},
   "outputs": [],
   "source": [
    "rx = !{sys.executable} -m pip show jupyter_contrib_nbextensions"
   ]
  },
  {
   "cell_type": "code",
   "execution_count": null,
   "metadata": {},
   "outputs": [],
   "source": [
    "rx"
   ]
  },
  {
   "cell_type": "code",
   "execution_count": null,
   "metadata": {},
   "outputs": [],
   "source": []
  }
 ],
 "metadata": {
  "kernelspec": {
   "display_name": "py37",
   "language": "python",
   "name": "py37"
  },
  "language_info": {
   "codemirror_mode": {
    "name": "ipython",
    "version": 3
   },
   "file_extension": ".py",
   "mimetype": "text/x-python",
   "name": "python",
   "nbconvert_exporter": "python",
   "pygments_lexer": "ipython3",
   "version": "3.7.2"
  },
  "toc": {
   "base_numbering": 1,
   "nav_menu": {},
   "number_sections": true,
   "sideBar": true,
   "skip_h1_title": false,
   "title_cell": "Table of Contents",
   "title_sidebar": "Contents",
   "toc_cell": false,
   "toc_position": {},
   "toc_section_display": true,
   "toc_window_display": false
  }
 },
 "nbformat": 4,
 "nbformat_minor": 2
}
